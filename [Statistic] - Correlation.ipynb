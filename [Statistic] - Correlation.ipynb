{
 "cells": [
  {
   "cell_type": "markdown",
   "metadata": {},
   "source": [
    "### 相关关系与回归\n",
    "\n",
    "变量和变量之间的相互影响因素特别的多，造成了变量之间关系的不确定性。<br/>\n",
    "变量之间存在的不确定关系，被称为**相关关系**\n",
    "\n",
    "### 怎么算相关系数？\n",
    "皮尔逊相关系数 = <br\\>\n",
    "x和y的协方差 / (x的标准差 * y的标准差)\n",
    "\n",
    "怎么理解这个？\n",
    "高中数学：将两组数据首先做Z分数处理之后, 然后两组数据的乘积和除以样本数。\n",
    "大学数学：可以看做是两组数据的向量夹角的余弦。（因为协方差算的就是两向量间余弦）\n",
    "\n",
    "举例：\n",
    "假设五个国家的国民生产总值分别是1，2，3，5，8（单位十亿美元），又假设这五个国家的贫困比例是11%，12%，13%，15%，18%。这五个国家被选作抽样样本，服从正态分布。\n",
    "\n",
    "问五个国家GDP和贫困比例是否相关？是否有相关关系"
   ]
  },
  {
   "cell_type": "code",
   "execution_count": 26,
   "metadata": {},
   "outputs": [
    {
     "name": "stdout",
     "output_type": "stream",
     "text": [
      "皮尔逊相关系数为:1.0\n"
     ]
    }
   ],
   "source": [
    "### 纯手工算法\n",
    "import numpy as np\n",
    "from math import *\n",
    "\n",
    "list_GDP = [1,2,3,5,8]\n",
    "list_Poverty = [0.11,0.12,0.13,0.15,0.18]\n",
    "\n",
    "def Means(array):\n",
    "    mean = np.mean(array) \n",
    "    means = np.repeat([mean],5) # 复制平均数5词压到array中\n",
    "    return means\n",
    "    \n",
    "def Covariance(array1,array2):\n",
    "    array1_sub = array1 - Means(array1)\n",
    "    array2_sub = array2 - Means(array2)\n",
    "    result = np.dot(array1_sub,array2_sub) # 向量间点乘\n",
    "    return result\n",
    "\n",
    "def SD(array):\n",
    "    array_sub = array - Means(array)\n",
    "    array_sub_square = list(map(lambda x:pow(x,2),array_sub)) # array内求平方\n",
    "    array_sub_sqrt = sqrt(sum(array_sub_square))\n",
    "    return array_sub_sqrt\n",
    "\n",
    "cov_num = Covariance(list_GDP,list_Poverty) / (SD(list_GDP) * SD(list_Poverty))\n",
    "print(\"皮尔逊相关系数为:\" + str(cov_num)) # 因此这两组变量的皮尔逊相关系数为1"
   ]
  },
  {
   "cell_type": "markdown",
   "metadata": {},
   "source": [
    "使用numpy的库的话，皮尔逊相关系数的语法为 np.corrcoef(a)，a是一个含两个或两个以上向量的矩阵"
   ]
  },
  {
   "cell_type": "code",
   "execution_count": 30,
   "metadata": {},
   "outputs": [
    {
     "data": {
      "text/plain": [
       "(1.0, 0.0)"
      ]
     },
     "execution_count": 30,
     "metadata": {},
     "output_type": "execute_result"
    }
   ],
   "source": [
    "import numpy as np\n",
    "from scipy.stats import pearsonr\n",
    "\n",
    "np.corrcoef([list_GDP,list_Poverty]) ## 使用np\n",
    "pearsonr(list_GDP,list_Poverty) ## 或者使用pearsonr"
   ]
  },
  {
   "cell_type": "markdown",
   "metadata": {},
   "source": [
    "### 线性关系的检测\n",
    "对于一个具体的r取值，根据经验可以将相关程度分为如下几种情况。<br/>\n",
    "abs(r) > 0.8，可是为高度相关。<br/>\n",
    "0.5 =< abs(r) < 0.8，可视为中度相关。<br/>\n",
    "0.3 =< abs(r) < 0.5，可视为低度相关。<br/>\n",
    "abs(r) < 0.3，可视为不相关\n",
    "\n",
    "所以上述例子相关系数为1，高度相关"
   ]
  },
  {
   "cell_type": "markdown",
   "metadata": {},
   "source": [
    "### 线性关系的显著性检验\n",
    "\n",
    "使用费舍尔的t分布来检验"
   ]
  },
  {
   "cell_type": "code",
   "execution_count": null,
   "metadata": {
    "collapsed": true
   },
   "outputs": [],
   "source": []
  }
 ],
 "metadata": {
  "kernelspec": {
   "display_name": "Python [default]",
   "language": "python",
   "name": "python3"
  },
  "language_info": {
   "codemirror_mode": {
    "name": "ipython",
    "version": 3
   },
   "file_extension": ".py",
   "mimetype": "text/x-python",
   "name": "python",
   "nbconvert_exporter": "python",
   "pygments_lexer": "ipython3",
   "version": "3.5.2"
  }
 },
 "nbformat": 4,
 "nbformat_minor": 2
}
